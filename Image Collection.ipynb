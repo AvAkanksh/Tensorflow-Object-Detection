{
 "cells": [
  {
   "cell_type": "code",
   "execution_count": 3,
   "id": "f223eb67",
   "metadata": {
    "ExecuteTime": {
     "end_time": "2021-06-15T17:37:49.262637Z",
     "start_time": "2021-06-15T17:37:49.241283Z"
    }
   },
   "outputs": [],
   "source": [
    "import cv2\n",
    "import uuid\n",
    "import time\n",
    "import os\n"
   ]
  },
  {
   "cell_type": "markdown",
   "id": "6e11d801",
   "metadata": {},
   "source": [
    "# Define images to Collect"
   ]
  },
  {
   "cell_type": "code",
   "execution_count": 4,
   "id": "45231c98",
   "metadata": {
    "ExecuteTime": {
     "end_time": "2021-06-15T17:41:08.243776Z",
     "start_time": "2021-06-15T17:41:08.226535Z"
    }
   },
   "outputs": [],
   "source": [
    "labels = ['rock', 'paper','scissors']\n",
    "no_samples = 10"
   ]
  },
  {
   "cell_type": "code",
   "execution_count": 5,
   "id": "9baa9a29",
   "metadata": {
    "ExecuteTime": {
     "end_time": "2021-06-15T17:45:42.726040Z",
     "start_time": "2021-06-15T17:45:42.716651Z"
    }
   },
   "outputs": [],
   "source": [
    "IMAGE_PATH = os.path.join('images','collectedimages')"
   ]
  },
  {
   "cell_type": "code",
   "execution_count": 7,
   "id": "a745be33",
   "metadata": {
    "ExecuteTime": {
     "end_time": "2021-06-15T17:49:43.941865Z",
     "start_time": "2021-06-15T17:49:43.350633Z"
    }
   },
   "outputs": [
    {
     "name": "stdout",
     "output_type": "stream",
     "text": [
      "mkdir: cannot create directory ‘images/collectedimages’: No such file or directory\n",
      "mkdir: cannot create directory ‘images/collectedimages/rock’: No such file or directory\n",
      "mkdir: cannot create directory ‘images/collectedimages/paper’: No such file or directory\n",
      "mkdir: cannot create directory ‘images/collectedimages/scissors’: No such file or directory\n"
     ]
    }
   ],
   "source": [
    "if not os.path.exists(IMAGE_PATH):\n",
    "    !mkdir {IMAGE_PATH}\n",
    "\n",
    "for label in labels:\n",
    "    path = os.path.join(IMAGE_PATH,label)\n",
    "    if not os.path.exists(path):\n",
    "        !mkdir {path}"
   ]
  },
  {
   "cell_type": "code",
   "execution_count": null,
   "id": "29ed3e8e",
   "metadata": {},
   "outputs": [],
   "source": []
  }
 ],
 "metadata": {
  "kernelspec": {
   "display_name": "Python 3.9.2 64-bit",
   "language": "python",
   "name": "python39264bit048658c9e87c4eba8f67710e48266247"
  },
  "language_info": {
   "codemirror_mode": {
    "name": "ipython",
    "version": 3
   },
   "file_extension": ".py",
   "mimetype": "text/x-python",
   "name": "python",
   "nbconvert_exporter": "python",
   "pygments_lexer": "ipython3",
   "version": "3.9.2"
  },
  "toc": {
   "base_numbering": 1,
   "nav_menu": {},
   "number_sections": true,
   "sideBar": true,
   "skip_h1_title": false,
   "title_cell": "Table of Contents",
   "title_sidebar": "Contents",
   "toc_cell": false,
   "toc_position": {},
   "toc_section_display": true,
   "toc_window_display": false
  }
 },
 "nbformat": 4,
 "nbformat_minor": 5
}
